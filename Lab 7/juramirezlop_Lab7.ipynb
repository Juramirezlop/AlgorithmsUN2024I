{
  "nbformat": 4,
  "nbformat_minor": 0,
  "metadata": {
    "colab": {
      "provenance": [],
      "include_colab_link": true
    },
    "kernelspec": {
      "name": "python3",
      "display_name": "Python 3"
    },
    "language_info": {
      "name": "python"
    }
  },
  "cells": [
    {
      "cell_type": "markdown",
      "metadata": {
        "id": "view-in-github",
        "colab_type": "text"
      },
      "source": [
        "<a href=\"https://colab.research.google.com/github/Juramirezlop/AlgorithmsUN2024I/blob/main/juramirezlop_Lab7.ipynb\" target=\"_parent\"><img src=\"https://colab.research.google.com/assets/colab-badge.svg\" alt=\"Open In Colab\"/></a>"
      ]
    },
    {
      "cell_type": "markdown",
      "metadata": {
        "id": "I5UAAxG2_CqQ"
      },
      "source": [
        "# 0.(1 microsecond by instruction)\n",
        "Asuuming that you can execute a million instructions $10^6$ every second, i.e. each instruction takes one microsecond $1\\mu s=10^{-6}$ seconds. If you have algorithms take $\\bf{ Time\\ Complexity}$ steps to solve a problem of size $n$ as specified in column one. What is the size of the largest problem that you can solve in the time specified in row one?\n",
        "\n",
        "$$\n",
        "\\begin{array}{|c|c|c|c|c|c|c|c|}\n",
        " \\hline\n",
        " \\bf{Time Complexity} & Second & Minute & Hour & Day & Year & Century & Mileniun \\\\\n",
        " \\hline\n",
        " \\lg(n) & 2^{10^6} & 2^{6 \\times 10^7} & 2^{3.6 \\times 10^9} & 2^{8.64 \\times 10^{10}} & 2^{3.1536 \\times 10^{13}} & 2^{3.1536 \\times 10^{15}} & 2^{3.1536 \\times 10^{18}} \\\\\n",
        " \\hline\n",
        " \\lg^2(n) & 2^{10^3} & 2^{7.746 \\times 10^3} & 2^{6 \\times 10^4} & 2^{2.93939 \\times 10^5} & 2^{5.615692 \\times 10^6} & 2^{5.6156923 \\times 10^7} & 2^{1.77583783 \\times 10^9} \\\\\n",
        " \\hline\n",
        " \\sqrt{n} & 10^{12} & 3.6 \\times 10^{15} & 1.296 \\times 10^{19} & 7.46496 \\times 10^{21} & 9.94519296 \\times 10^{26} & 9.94519296 \\times 10^{30} & 9.94519296 \\times 10^{36} \\\\\n",
        " \\hline\n",
        " n & 10^6 & 6 \\times 10^7 & 3.6 \\times 10^9 & 8.64 \\times 10^{10} & 3.1536 \\times 10^{13} & 3.1536 \\times 10^{15} & 3.1536 \\times 10^{18} \\\\\n",
        " \\hline\n",
        " n\\lg(n) & 6.2746 \\times 10^4 & 2.801417 \\times 10^6 & 1.33378058 \\times 10^8 & 2.75514751 \\times 10^9 & 7.97633893 \\times 10^{11} & 6.86109568 \\times 10^{13} & 5.66650934 \\times 10^{16} \\\\\n",
        " \\hline\n",
        " n^2 & 1000 & 7746 & 60000 & 293939 & 5615692 & 56156923 & 1775837830 \\\\\n",
        " \\hline\n",
        " n^3 & 100 & 391 & 1533 & 4421 & 31594 & 146646 & 1466455 \\\\\n",
        " \\hline\n",
        " n^4 & 32 & 88 & 245 & 542 & 2370 & 7494 & 42141 \\\\\n",
        " \\hline\n",
        " 2^n & 19 & 25 & 31 & 36 & 44 & 51 & 61 \\\\\n",
        " \\hline\n",
        " n! & 9 & 11 & 12 & 13 & 16 & 17 & 20 \\\\\n",
        " \\hline\n",
        " n^n & 7 & 8 & 9 & 10 & 12 & 13 & 15 \\\\\n",
        " \\hline\n",
        "\\end{array}\n",
        "$$"
      ]
    },
    {
      "cell_type": "markdown",
      "source": [
        "$\\bf{ Time\\ Complexity\\ \\lg(n) }$"
      ],
      "metadata": {
        "id": "H5q7vk_5uQg6"
      }
    },
    {
      "cell_type": "code",
      "source": [
        "val = 10**6\n",
        "import math\n",
        "print(\"Second  = 2^\", \"{:.8E}\".format(val))\n",
        "print(\"Minute  = 2^\", \"{:.8E}\".format(60*(val)))\n",
        "print(\"Hour  = 2^\", \"{:.8E}\".format(60*60*(val)))\n",
        "print(\"Day  = 2^\", \"{:.8E}\".format(60*60*24*(val)))\n",
        "print(\"Year  = 2^\", \"{:.8E}\".format(365*24*60*60*(val)))\n",
        "print(\"Century  = 2^\", \"{:.8E}\".format(100*365*24*60*60*(val)))\n",
        "print(\"Mileniun  = 2^\", \"{:.8E}\".format(1000*100*365*24*60*60*(val)))"
      ],
      "metadata": {
        "colab": {
          "base_uri": "https://localhost:8080/"
        },
        "id": "bTthDoLSuSJr",
        "outputId": "98515200-bb49-403b-a4af-d80f4afdc85c"
      },
      "execution_count": 1,
      "outputs": [
        {
          "output_type": "stream",
          "name": "stdout",
          "text": [
            "Second  = 2^ 1.00000000E+06\n",
            "Minute  = 2^ 6.00000000E+07\n",
            "Hour  = 2^ 3.60000000E+09\n",
            "Day  = 2^ 8.64000000E+10\n",
            "Year  = 2^ 3.15360000E+13\n",
            "Century  = 2^ 3.15360000E+15\n",
            "Mileniun  = 2^ 3.15360000E+18\n"
          ]
        }
      ]
    },
    {
      "cell_type": "markdown",
      "source": [
        "$\\bf{ Time\\ Complexity\\ \\lg^2(n) }$\n"
      ],
      "metadata": {
        "id": "15YCOeMyuqyS"
      }
    },
    {
      "cell_type": "code",
      "source": [
        "print(\"Second = 2^\",\"{:.8E}\".format(round(math.sqrt(val))))\n",
        "print(\"Minute = 2^\",\"{:.8E}\".format(round(math.sqrt(60*(val)))))\n",
        "print(\"Hour = 2^\",\"{:.8E}\".format(round(math.sqrt(60*60*(val)))))\n",
        "print(\"Day = 2^\",\"{:.8E}\".format(round(math.sqrt(24*60*60*(val)))))\n",
        "print(\"Year = 2^\",\"{:.8E}\".format(round(math.sqrt(365*24*60*60*(val)))))\n",
        "print(\"Century = 2^\",\"{:.8E}\".format(round(math.sqrt(100*365*24*60*60*(val)))))\n",
        "print(\"Mileniun = 2^\",\"{:.8E}\".format(round(math.sqrt(1000*100*365*24*60*60*(val)))))"
      ],
      "metadata": {
        "colab": {
          "base_uri": "https://localhost:8080/"
        },
        "id": "XVE0vc0kusVF",
        "outputId": "fbc913d9-d8f3-4c83-b4e7-2b9fb42f9631"
      },
      "execution_count": 3,
      "outputs": [
        {
          "output_type": "stream",
          "name": "stdout",
          "text": [
            "Second = 2^ 1.00000000E+03\n",
            "Minute = 2^ 7.74600000E+03\n",
            "Hour = 2^ 6.00000000E+04\n",
            "Day = 2^ 2.93939000E+05\n",
            "Year = 2^ 5.61569200E+06\n",
            "Century = 2^ 5.61569230E+07\n",
            "Mileniun = 2^ 1.77583783E+09\n"
          ]
        }
      ]
    },
    {
      "cell_type": "markdown",
      "source": [
        "$\\bf{ Time\\ Complexity\\ \\sqrt{n} }$"
      ],
      "metadata": {
        "id": "Uj8Tcx2XwryT"
      }
    },
    {
      "cell_type": "code",
      "source": [
        "print(\"Second = \", \"{:.8E}\".format(math.pow(val,2)))\n",
        "print(\"Minute = \",\"{:.8E}\".format(math.pow(60*val,2)))\n",
        "print(\"Hour = \",\"{:.8E}\".format(math.pow(60*60*val,2)))\n",
        "print(\"Day = \",\"{:.8E}\".format(math.pow(24*60*60*val,2)))\n",
        "print(\"Year = \",\"{:.8E}\".format(math.pow(365*24*60*60*val,2)))\n",
        "print(\"Century = \",\"{:.8E}\".format(math.pow(100*365*24*60*60*val,2)))\n",
        "print(\"Mileniun = \",\"{:.8E}\".format(math.pow(1000*100*365*24*60*60*val,2)))"
      ],
      "metadata": {
        "colab": {
          "base_uri": "https://localhost:8080/"
        },
        "id": "9lBNixHNwz29",
        "outputId": "6abc72bc-0bb5-40bd-9e22-0e1820b8ec1a"
      },
      "execution_count": 4,
      "outputs": [
        {
          "output_type": "stream",
          "name": "stdout",
          "text": [
            "Second =  1.00000000E+12\n",
            "Minute =  3.60000000E+15\n",
            "Hour =  1.29600000E+19\n",
            "Day =  7.46496000E+21\n",
            "Year =  9.94519296E+26\n",
            "Century =  9.94519296E+30\n",
            "Mileniun =  9.94519296E+36\n"
          ]
        }
      ]
    },
    {
      "cell_type": "markdown",
      "source": [
        "$\\bf{ Time\\ Complexity\\ n }$"
      ],
      "metadata": {
        "id": "tQtA42a7xTEb"
      }
    },
    {
      "cell_type": "code",
      "source": [
        "print(\"Second = \", \"{:.8E}\".format(val))\n",
        "print(\"Minute = \",\"{:.8E}\".format(60*val))\n",
        "print(\"Hour = \",\"{:.8E}\".format(60*60*val))\n",
        "print(\"Day = \",\"{:.8E}\".format(24*60*60*val))\n",
        "print(\"Year = \",\"{:.8E}\".format(365*24*60*60*val))\n",
        "print(\"Century = \",\"{:.8E}\".format(100*365*24*60*60*val))\n",
        "print(\"Mileniun = \",\"{:.8E}\".format(1000*100*365*24*60*60*val))"
      ],
      "metadata": {
        "colab": {
          "base_uri": "https://localhost:8080/"
        },
        "id": "3mGZ83Kcxa1c",
        "outputId": "d502e7e7-3863-4b08-d7df-f1f082bb3fef"
      },
      "execution_count": 6,
      "outputs": [
        {
          "output_type": "stream",
          "name": "stdout",
          "text": [
            "Second =  1.00000000E+06\n",
            "Minute =  6.00000000E+07\n",
            "Hour =  3.60000000E+09\n",
            "Day =  8.64000000E+10\n",
            "Year =  3.15360000E+13\n",
            "Century =  3.15360000E+15\n",
            "Mileniun =  3.15360000E+18\n"
          ]
        }
      ]
    },
    {
      "cell_type": "markdown",
      "source": [
        "$\\bf{ Time\\ Complexity\\ n\\lg{n} }$"
      ],
      "metadata": {
        "id": "p0FEj5Y7xzNs"
      }
    },
    {
      "cell_type": "code",
      "source": [
        "def f(n):\n",
        "  return n*math.log2(n)\n",
        "\n",
        "\n",
        "def binary(f,v):\n",
        "  left = 1\n",
        "  right = v\n",
        "  while True:\n",
        "    middle = int((left+right)/2)\n",
        "    if ((f(middle+1) > v) and (f(middle) <= v) ) or (left == middle) or  (right == middle):\n",
        "      return int(middle)\n",
        "    elif f(middle) < v:\n",
        "      left = middle\n",
        "    else:\n",
        "      right = middle\n",
        "\n",
        "print(\"Second = \", \"{:.8E}\".format(binary(f,val)))\n",
        "print(\"Minute = \", \"{:.8E}\".format(binary(f,60*val)))\n",
        "print(\"Hour = \", \"{:.8E}\".format(binary(f,60*60*val)))\n",
        "print(\"Day = \", \"{:.8E}\".format(binary(f,24*60*60*val)) )\n",
        "print(\"Year = \", \"{:.8E}\".format(binary(f,365*24*60*60*val)) )\n",
        "print(\"Century = \", \"{:.8E}\".format(binary(f,100*365*24*60*60*val)) )\n",
        "print(\"Mileniun = \", \"{:.8E}\".format(binary(f,1000*100*365*24*60*60*val)) )"
      ],
      "metadata": {
        "colab": {
          "base_uri": "https://localhost:8080/"
        },
        "id": "eCYXZUEpx5Qq",
        "outputId": "991c304b-1744-4723-effa-e27d4db0e965"
      },
      "execution_count": 9,
      "outputs": [
        {
          "output_type": "stream",
          "name": "stdout",
          "text": [
            "Second =  6.27460000E+04\n",
            "Minute =  2.80141700E+06\n",
            "Hour =  1.33378058E+08\n",
            "Day =  2.75514751E+09\n",
            "Year =  7.97633893E+11\n",
            "Century =  6.86109568E+13\n",
            "Mileniun =  5.66650934E+16\n"
          ]
        }
      ]
    },
    {
      "cell_type": "markdown",
      "source": [
        "$\\bf{ Time\\ Complexity\\ n^2}$"
      ],
      "metadata": {
        "id": "j-DmwWh-0IDm"
      }
    },
    {
      "cell_type": "code",
      "source": [
        "print(\"Second =\",round(math.sqrt(val )))\n",
        "print(\"Minute = \",round(math.sqrt(60*val )))\n",
        "print(\"Hour = \",round(math.sqrt(60*60*val )))\n",
        "print(\"Day = \",round(math.sqrt(24*60*60*val )))\n",
        "print(\"Year = \",round(math.sqrt(365*24*60*60*val )))\n",
        "print(\"Century = \",round(math.sqrt(100*365*24*60*60*val )))\n",
        "print(\"Mileniun = \",round(math.sqrt(1000*100*365*24*60*60*val )))"
      ],
      "metadata": {
        "colab": {
          "base_uri": "https://localhost:8080/"
        },
        "id": "ICOu0zdizhDw",
        "outputId": "8f4c09be-0e57-4653-a047-1e16677227ce"
      },
      "execution_count": 11,
      "outputs": [
        {
          "output_type": "stream",
          "name": "stdout",
          "text": [
            "Second = 1000\n",
            "Minute =  7746\n",
            "Hour =  60000\n",
            "Day =  293939\n",
            "Year =  5615692\n",
            "Century =  56156923\n",
            "Mileniun =  1775837830\n"
          ]
        }
      ]
    },
    {
      "cell_type": "markdown",
      "source": [
        "$\\bf{ Time\\ Complexity\\ n^3}$"
      ],
      "metadata": {
        "id": "XUph5v4J0JsS"
      }
    },
    {
      "cell_type": "code",
      "source": [
        "print(\"Second = \",round(math.pow(val ,1/3)))\n",
        "print(\"Minute = \",round(math.pow(60*val ,1/3)))\n",
        "print(\"Hour = \",round(math.pow(60*60*val ,1/3)))\n",
        "print(\"Day = \",round(math.pow(24*60*60*val ,1/3)))\n",
        "print(\"Year = \",round(math.pow(365*24*60*60*val ,1/3)))\n",
        "print(\"Century = \",round(math.pow(100*365*24*60*60*val ,1/3)))\n",
        "print(\"Mileniun = \",round(math.pow(1000*100*365*24*60*60*val ,1/3)))"
      ],
      "metadata": {
        "colab": {
          "base_uri": "https://localhost:8080/"
        },
        "id": "rOwTFTJozson",
        "outputId": "82228e4f-3ace-40a7-ca57-94c37c69b0c9"
      },
      "execution_count": 12,
      "outputs": [
        {
          "output_type": "stream",
          "name": "stdout",
          "text": [
            "Second =  100\n",
            "Minute =  391\n",
            "Hour =  1533\n",
            "Day =  4421\n",
            "Year =  31594\n",
            "Century =  146646\n",
            "Mileniun =  1466455\n"
          ]
        }
      ]
    },
    {
      "cell_type": "markdown",
      "source": [
        "$\\bf{ Time\\ Complexity\\ n^4}$"
      ],
      "metadata": {
        "id": "J3yrYJhv0NY9"
      }
    },
    {
      "cell_type": "code",
      "source": [
        "print(\"Second = \",round(math.pow(val ,1/4)))\n",
        "print(\"Minute = \",round(math.pow(60*val ,1/4)))\n",
        "print(\"Hour = \",round(math.pow(60*60*val ,1/4)))\n",
        "print(\"Day = \",round(math.pow(24*60*60*val ,1/4)))\n",
        "print(\"Year = \",round(math.pow(365*24*60*60*val ,1/4)))\n",
        "print(\"Century = \",round(math.pow(100*365*24*60*60*val ,1/4)))\n",
        "print(\"Mileniun = \",round(math.pow(1000*100*365*24*60*60*val ,1/4)))"
      ],
      "metadata": {
        "colab": {
          "base_uri": "https://localhost:8080/"
        },
        "id": "RUymHO2ez8Mn",
        "outputId": "ba14b591-a19c-48a1-f85e-6771652d3f3e"
      },
      "execution_count": 14,
      "outputs": [
        {
          "output_type": "stream",
          "name": "stdout",
          "text": [
            "Second =  32\n",
            "Minute =  88\n",
            "Hour =  245\n",
            "Day =  542\n",
            "Year =  2370\n",
            "Century =  7494\n",
            "Mileniun =  42141\n"
          ]
        }
      ]
    },
    {
      "cell_type": "markdown",
      "source": [
        "$\\bf{ Time\\ Complexity\\ 2^n}$"
      ],
      "metadata": {
        "id": "Bn1U81tK0WZG"
      }
    },
    {
      "cell_type": "code",
      "source": [
        "print(\"Second =\",int(math.log2(val )))\n",
        "print(\"Minute = \",int(math.log2(60*val )))\n",
        "print(\"Hour = \",int(math.log2(60*60*val )))\n",
        "print(\"Day = \",int(math.log2(24*60*60*val )))\n",
        "print(\"Year = \",int(math.log2(365*24*60*60*val )))\n",
        "print(\"Century = \",int(math.log2(100*365*24*60*60*val )))\n",
        "print(\"Mileniun = \",int(math.log2(1000*100*365*24*60*60*val )))"
      ],
      "metadata": {
        "colab": {
          "base_uri": "https://localhost:8080/"
        },
        "id": "49s_dfRZ0xbq",
        "outputId": "e340734c-6346-4de8-b56b-9d5d0fac77a2"
      },
      "execution_count": 15,
      "outputs": [
        {
          "output_type": "stream",
          "name": "stdout",
          "text": [
            "Second = 19\n",
            "Minute =  25\n",
            "Hour =  31\n",
            "Day =  36\n",
            "Year =  44\n",
            "Century =  51\n",
            "Mileniun =  61\n"
          ]
        }
      ]
    },
    {
      "cell_type": "markdown",
      "source": [
        "$\\bf{ Time\\ Complexity\\ n!}$"
      ],
      "metadata": {
        "id": "zNC_puTa0YwS"
      }
    },
    {
      "cell_type": "code",
      "source": [
        "def f(n):\n",
        "  return math.factorial(n)\n",
        "\n",
        "\n",
        "def find(f,v):\n",
        "  left = 1\n",
        "  right = 100\n",
        "  while True:\n",
        "    middle = int((left+right)/2)\n",
        "    if ((f(middle+1) > v) and (f(middle) <= v) ) or (left == middle) or  (right == middle):\n",
        "      return int(middle)\n",
        "    elif f(middle) < v:\n",
        "      left = middle\n",
        "    else:\n",
        "      right = middle\n",
        "\n",
        "print(\"Second = \", find(f,val ))\n",
        "print(\"Minute = \",find(f,60*val ))\n",
        "print(\"Hour = \",find(f,60*60*val ))\n",
        "print(\"Day = \",find(f,24*60*60*val))\n",
        "print(\"Year = \",find(f,365*24*60*60*val ))\n",
        "print(\"Century = \",find(f,100*365*24*60*60*val ))\n",
        "print(\"Mileniun = \",find(f,1000*100*365*24*60*60*val ))"
      ],
      "metadata": {
        "colab": {
          "base_uri": "https://localhost:8080/"
        },
        "id": "9rcvHEKt0_z7",
        "outputId": "0963fc6f-d2f4-4ada-e04f-1d2b3c273e04"
      },
      "execution_count": 18,
      "outputs": [
        {
          "output_type": "stream",
          "name": "stdout",
          "text": [
            "Second =  9\n",
            "Minute =  11\n",
            "Hour =  12\n",
            "Day =  13\n",
            "Year =  16\n",
            "Century =  17\n",
            "Mileniun =  20\n"
          ]
        }
      ]
    },
    {
      "cell_type": "markdown",
      "source": [
        "$\\bf{ Time\\ Complexity\\ n^n}$"
      ],
      "metadata": {
        "id": "G00uziOm0ay-"
      }
    },
    {
      "cell_type": "code",
      "source": [
        "def f(n):\n",
        "  return n**n\n",
        "\n",
        "\n",
        "def binary(f,v):\n",
        "  left = 1\n",
        "  right = 100\n",
        "  while True:\n",
        "    middle = int((left+right)/2)\n",
        "    if ((f(middle+1) > v) and (f(middle) <= v) ) or (left == middle) or  (right == middle):\n",
        "      return int(middle)\n",
        "    elif f(middle) < v:\n",
        "      left = middle\n",
        "    else:\n",
        "      right = middle\n",
        "\n",
        "print(\"Second = \", binary(f,val))\n",
        "print(\"Minute = \", binary(f,60*val))\n",
        "print(\"Hour = \", binary(f,60*60*val))\n",
        "print(\"Day = \", binary(f,24*60*60*val))\n",
        "print(\"Year = \", binary(f,365*24*60*60*val))\n",
        "print(\"Century = \", binary(f,100*365*24*60*60*val))\n",
        "print(\"Mileniun = \", binary(f,1000*100*365*24*60*60*val))"
      ],
      "metadata": {
        "colab": {
          "base_uri": "https://localhost:8080/"
        },
        "id": "1K02u-SR1uhY",
        "outputId": "1e2f0d5d-4f25-43fd-94b3-c43efc978481"
      },
      "execution_count": 20,
      "outputs": [
        {
          "output_type": "stream",
          "name": "stdout",
          "text": [
            "Second =  7\n",
            "Minute =  8\n",
            "Hour =  9\n",
            "Day =  10\n",
            "Year =  12\n",
            "Century =  13\n",
            "Mileniun =  15\n"
          ]
        }
      ]
    },
    {
      "cell_type": "markdown",
      "source": [
        "Taking into account the previous calculations and programs, the tables will be finished without specifying a process, this with the purpose of synthesizing the information.\n"
      ],
      "metadata": {
        "id": "MXD33d2z0fgW"
      }
    },
    {
      "cell_type": "markdown",
      "metadata": {
        "id": "yCCsCOW2OQbQ"
      },
      "source": [
        "# 1.(10  nanoseconds by instruction)\n",
        "\n",
        "Asuuming that you can execute a 100 million instructions $100 \\times 10^6$ every second, i.e. each instrcution takes 10 nanoseconds, 10 $\\eta s  = 10^{-8} s $. If you have algorithms take $\\bf{ Time\\ Complexity}$ steps to solve a poblem of size $n$ as specified in column one. What is the size of the largest porblem that you can solve in the time specified in row one?\n",
        "$$\n",
        "\\begin{array}{|c|c|c|c|c|c|c|c|}\n",
        " \\hline\n",
        " \\bf{Time Complexity} & Second & Minute & Hour & Day & Year & Century & Mileniun \\\\\n",
        " \\hline\n",
        " \\lg(n) & 2^{10^8} & 2^{6 \\times 10^9} & 2^{3.6 \\times 10^{11}} & 2^{8.64 \\times 10^{12}} & 2^{3.1536 \\times 10^{15}} & 2^{3.1536 \\times 10^{17}} & 2^{3.1536 \\times 10^{20}} \\\\\n",
        " \\hline\n",
        " \\lg^2(n) & 2^{10^4} & 2^{7.746 \\times 10^4} & 2^{6 \\times 10^5} & 2^{2.939388 \\times 10^6} & 2^{5.6156923 \\times 10^7} & 2^{5.6156923 \\times 10^8} & 2^{1.7758378304 \\times 10^{10}} \\\\\n",
        " \\hline\n",
        " \\sqrt{n} & 10^{16} & 3.6 \\times 10^{19} & 1.296 \\times 10^{23} & 7.46496 \\times 10^{25} & 9.94519296 \\times 10^{30} & 9.94519296 \\times 10^{34} & 9.94519296 \\times 10^{40} \\\\\n",
        " \\hline\n",
        " n & 10^8 & 6 \\times 10^9 & 3.6 \\times 10^{11} & 8.64 \\times 10^{12} & 3.1536 \\times 10^{15} & 3.1536 \\times 10^{17} & 3.1536 \\times 10^{20} \\\\\n",
        " \\hline\n",
        " n\\lg(n) & 4.523071 \\times 10^6 & 2.16677120 \\times 10^8 & 1.08009383 \\times 10^{10} & 2.28957338 \\times 10^{11} & 6.86109568 \\times 10^{13} & 6.01627776 \\times 10^{15} & 5.07514271 \\times 10^{18} \\\\\n",
        " \\hline\n",
        " n^2 & 10000 & 77460 & 600000 & 2939388 & 56156923 & 561569230 & 17758378304 \\\\\n",
        " \\hline\n",
        " n^3 & 464 & 1817 & 7114 & 20520 & 146646 & 680668 & 6806683 \\\\\n",
        " \\hline\n",
        " n^4 & 100 & 278 & 775 & 1714 & 7494 & 23697 & 133261 \\\\\n",
        " \\hline\n",
        " 2^n & 26 & 32 & 38 & 42 & 51 & 58 & 68 \\\\\n",
        " \\hline\n",
        " n! & 11 & 12 & 14 & 15 & 17 & 19 & 21 \\\\\n",
        " \\hline\n",
        " n^n & 8 & 9 & 11 & 11 & 13 & 14 & 16 \\\\\n",
        " \\hline\n",
        "\\end{array}\n",
        "$$"
      ]
    },
    {
      "cell_type": "markdown",
      "metadata": {
        "id": "9fIs_70_DJWM"
      },
      "source": [
        "# 2.(2.5  nanoseconds by instruction)\n",
        "\n",
        "Asuuming that you can execute a 400 million instructions $400 \\times 10^6$ every second, i.e. each instrcution takes 2.5  nanoseconds, 2.5 $\\eta s  = 2.5 \\times 10^{-9} s$. If you have algorithms take $\\bf{ Time\\ Complexity}$ steps to solve a problem of size $n$ as specified in column one. What is the size of the largest problem that you can solve in the time specified in row one?\n",
        "$$\n",
        "\\begin{array}{|c|c|c|c|c|c|c|c|}\n",
        " \\hline\n",
        " \\bf{Time Complexity} & Second & Minute & Hour & Day & Year & Century & Mileniun \\\\\n",
        " \\hline\n",
        " \\lg(n) & 2^{2.5 \\times 10^9} & 2^{1.5 \\times 10^{11}} & 2^{9 \\times 10^{12}} & 2^{2.16 \\times 10^{14}} & 2^{7.884 \\times 10^{16}} & 2^{7.884 \\times 10^{18}} & 2^{7.884 \\times 10^{21}} \\\\\n",
        " \\hline\n",
        " \\lg^2(n) & 2^{5 \\times 10^4} & 2^{3.87298 \\times 10^5} & 2^{3 \\times 10^6} & 2^{1.4696938 \\times 10^7} & 2^{2.80784615 \\times 10^8} & 2^{2.80784615 \\times 10^9} & 2^{8.8791891522 \\times 10^{10}} \\\\\n",
        " \\hline\n",
        " \\sqrt{n} & 6.25 \\times 10^{18} & 2.25 \\times 10^{22} & 8.1 \\times 10^{25} & 4.6656 \\times 10^{28} & 6.2157456 \\times 10^{33} & 6.2157456 \\times 10^{37} & 6.2157456 \\times 10^{43} \\\\\n",
        " \\hline\n",
        " n & 2.5 \\times 10^9 & 1.5 \\times 10^{11} & 9 \\times 10^{12} & 2.16 \\times 10^{14} & 7.884 \\times 10^{16} & 7.884 \\times 10^{18} & 7.884 \\times 10^{21} \\\\\n",
        " \\hline\n",
        " n\\lg(n) & 9.4368799 \\times 10^7 & 4.66988019 \\times 10^9 & 2.38139247 \\times 10^{11} & 5.11627318 \\times 10^{12} & 1.5620432 \\times 10^{15} & 1.38456172 \\times 10^{17} & 1.18235944 \\times 10^{20} \\\\\n",
        " \\hline\n",
        " n^2 & 50000 & 387298 & 3000000 & 14696938 & 280784615 & 2807846150 & 88791891522 \\\\\n",
        " \\hline\n",
        " n^3 & 1357 & 5313 & 20801 & 60000 & 428794 & 1990286 & 19902862 \\\\\n",
        " \\hline\n",
        " n^4 & 224 & 622 & 1732 & 3834 & 16757 & 52989 & 297980 \\\\\n",
        " \\hline\n",
        " 2^n & 31 & 37 & 43 & 47 & 56 & 62 & 72 \\\\\n",
        " \\hline\n",
        " n! & 12 & 14 & 15 & 16 & 18 & 20 & 22 \\\\\n",
        " \\hline\n",
        " n^n & 9 & 10 & 12 & 12 & 14 & 15 & 17 \\\\\n",
        " \\hline\n",
        "\\end{array}\n",
        "$$"
      ]
    },
    {
      "cell_type": "markdown",
      "metadata": {
        "id": "kwpTH36ZIyQJ"
      },
      "source": [
        "# 3. (1 noneosecond by instruction)\n",
        "\n",
        "Asuuming that you can execute a 1000 million instructions $10^9$ every second, i.e. each instrcution takes 1  nanosecond, 1 $\\eta s  = 10^{-9} s$. If you have algorithms take $\\bf{ Time\\ Complexity}$ steps to solve a problem of size $n$ as specified in column one. What is the size of the largest problem that you can solve in the time specified in row one?\n",
        "$$\n",
        "\\begin{array}{|c|c|c|c|c|c|c|c|}\n",
        " \\hline\n",
        " \\bf{Time Complexity} & Second & Minute & Hour & Day & Year & Century & Mileniun \\\\\n",
        " \\hline\n",
        " \\lg(n) & 2^{10^9} & 2^{6 \\times 10^{10}} & 2^{3.6 \\times 10^{12}} & 2^{8.64 \\times 10^{13}} & 2^{3.1536 \\times 10^{16}} & 2^{3.1536 \\times 10^{18}} & 2^{3.1536 \\times 10^{21}} \\\\\n",
        " \\hline\n",
        " \\lg^2(n) & 2^{31623} & 2^{244949} & 2^{1897367} & 2^{9295160} & 2^{177583783} & 2^{1775837830} & 2^{56156922993} \\\\\n",
        " \\hline\n",
        " \\sqrt{n} & 10^{18} & 3.6 \\times 10^{21} & 1.296 \\times 10^{25} & 7.46496 \\times 10^{27} & 9.94519296 \\times 10^{32} & 9.94519296 \\times 10^{36} & 9.94519296 \\times 10^{42} \\\\\n",
        " \\hline\n",
        " n & 10^9 & 6 \\times 10^{10} & 3.6 \\times 10^{12} & 8.64 \\times 10^{13} & 3.1536 \\times 10^{16} & 3.1536 \\times 10^{18} & 3.1536 \\times 10^{21} \\\\\n",
        " \\hline\n",
        " n\\lg(n) & 3.9620077 \\times 10^7 & 1.94447045 \\times 10^9 & 9.85747745 \\times 10^{10} & 2.11037274 \\times 10^{12} & 6.41136862 \\times 10^{14} & 5.66650934 \\times 10^{16} & 4.82300896 \\times 10^{19} \\\\\n",
        " \\hline\n",
        " n^2 & 31623 & 244949 & 1897367 & 9295160 & 177583783 & 1775837830 & 56156922993 \\\\\n",
        " \\hline\n",
        " n^3 & 1000 & 3915 & 15326 & 44208 & 315938 & 1466455 & 14664554 \\\\\n",
        " \\hline\n",
        " n^4 & 178 & 495 & 1377 & 3049 & 13326 & 42141 & 236975 \\\\\n",
        " \\hline\n",
        " 2^n & 29 & 35 & 41 & 46 & 54 & 61 & 71 \\\\\n",
        " \\hline\n",
        " n! & 12 & 13 & 15 & 16 & 18 & 20 & 22 \\\\\n",
        " \\hline\n",
        " n^n & 9 & 10 & 11 & 12 & 14 & 15 & 17 \\\\\n",
        " \\hline\n",
        "\\end{array}\n",
        "$$"
      ]
    },
    {
      "cell_type": "markdown",
      "source": [
        "It must be taken into account that the results shown in the tables are considered in the approximation made by the \"round\" function."
      ],
      "metadata": {
        "id": "9l403oFk3z6P"
      }
    }
  ]
}
